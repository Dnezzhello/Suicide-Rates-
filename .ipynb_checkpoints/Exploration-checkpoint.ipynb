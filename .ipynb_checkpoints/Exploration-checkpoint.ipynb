{
 "cells": [
  {
   "cell_type": "code",
   "execution_count": 28,
   "id": "4cf52986-f2d0-4b3f-acd5-3f1b5615afbc",
   "metadata": {},
   "outputs": [],
   "source": [
    "import pandas as pd\n",
    "import numpy as np\n",
    "import matplotlib.pyplot as plt\n",
    "import seaborn as sns"
   ]
  },
  {
   "cell_type": "markdown",
   "id": "68b7d212-55ec-4c64-bcf7-012a090bd980",
   "metadata": {},
   "source": [
    "# Objective Understanding"
   ]
  },
  {
   "cell_type": "markdown",
   "id": "53ef5636-c0cd-4358-86e3-0cae396e5dcc",
   "metadata": {},
   "source": [
    "* [Link 1](https://www.kaggle.com/datasets/russellyates88/suicide-rates-overview-1985-to-2016)\n",
    "* [Link 2](https://www.who.int/news-room/fact-sheets/detail/suicide)"
   ]
  },
  {
   "cell_type": "markdown",
   "id": "f9870e34-76fc-4777-bf2d-680891bb2ba7",
   "metadata": {},
   "source": [
    "# Data Understanding"
   ]
  },
  {
   "cell_type": "markdown",
   "id": "5310741f-c2d0-4cf3-86d3-352c73451d35",
   "metadata": {},
   "source": [
    "Luckily, required dataset can found on Kaggle and Our World in Data. The below links represent where our project retrieve data from.\n",
    "* [Kaggle - Suicide Rate Dataset](https://www.kaggle.com/datasets/russellyates88/suicide-rates-overview-1985-to-2016)\n",
    "* [Our World in Data - HDI Dataset](https://ourworldindata.org/human-development-index)\n",
    "* [Variable Description](https://docs.google.com/spreadsheets/d/1PPbMPrkpixVaY9v0tkprudtyn-AFF6Plu0a2s66v9vw/edit?usp=sharing)"
   ]
  },
  {
   "cell_type": "markdown",
   "id": "d1394e97-95c4-4e17-84ba-84dff90ff0e0",
   "metadata": {},
   "source": [
    "# Data Preparation"
   ]
  },
  {
   "cell_type": "markdown",
   "id": "fdef13a3-5888-49ab-9d7f-c111f0e6b501",
   "metadata": {},
   "source": [
    "### Initial Data Checking"
   ]
  },
  {
   "cell_type": "markdown",
   "id": "79207e94-094d-4f78-b89c-ac4b4a3e9c98",
   "metadata": {},
   "source": [
    "##### --- Suicide Data Set ---"
   ]
  },
  {
   "cell_type": "code",
   "execution_count": 29,
   "id": "66b45de3-4710-431e-827c-8241249c1eec",
   "metadata": {},
   "outputs": [],
   "source": [
    "suicide = pd.read_csv('./data/master.csv')"
   ]
  },
  {
   "cell_type": "code",
   "execution_count": 30,
   "id": "056bc800-4457-46b9-9a48-edc04d73f30b",
   "metadata": {},
   "outputs": [
    {
     "data": {
      "text/plain": [
       "(27820, 12)"
      ]
     },
     "execution_count": 30,
     "metadata": {},
     "output_type": "execute_result"
    }
   ],
   "source": [
    "suicide.shape"
   ]
  },
  {
   "cell_type": "code",
   "execution_count": 31,
   "id": "2dc00eaa-1c99-4eae-bc1d-617e413161dc",
   "metadata": {},
   "outputs": [
    {
     "data": {
      "text/plain": [
       "Index(['country', 'year', 'sex', 'age', 'suicides_no', 'population',\n",
       "       'suicides/100k pop', 'country-year', 'HDI for year',\n",
       "       ' gdp_for_year ($) ', 'gdp_per_capita ($)', 'generation'],\n",
       "      dtype='object')"
      ]
     },
     "execution_count": 31,
     "metadata": {},
     "output_type": "execute_result"
    }
   ],
   "source": [
    "suicide.columns"
   ]
  },
  {
   "cell_type": "code",
   "execution_count": 32,
   "id": "b70381ac-06ac-4119-91ec-22bd8f5dba51",
   "metadata": {},
   "outputs": [
    {
     "data": {
      "text/html": [
       "<div>\n",
       "<style scoped>\n",
       "    .dataframe tbody tr th:only-of-type {\n",
       "        vertical-align: middle;\n",
       "    }\n",
       "\n",
       "    .dataframe tbody tr th {\n",
       "        vertical-align: top;\n",
       "    }\n",
       "\n",
       "    .dataframe thead th {\n",
       "        text-align: right;\n",
       "    }\n",
       "</style>\n",
       "<table border=\"1\" class=\"dataframe\">\n",
       "  <thead>\n",
       "    <tr style=\"text-align: right;\">\n",
       "      <th></th>\n",
       "      <th>country</th>\n",
       "      <th>year</th>\n",
       "      <th>sex</th>\n",
       "      <th>age</th>\n",
       "      <th>suicides_no</th>\n",
       "      <th>population</th>\n",
       "      <th>suicides/100k pop</th>\n",
       "      <th>country-year</th>\n",
       "      <th>HDI for year</th>\n",
       "      <th>gdp_for_year ($)</th>\n",
       "      <th>gdp_per_capita ($)</th>\n",
       "      <th>generation</th>\n",
       "    </tr>\n",
       "  </thead>\n",
       "  <tbody>\n",
       "    <tr>\n",
       "      <th>0</th>\n",
       "      <td>Albania</td>\n",
       "      <td>1987</td>\n",
       "      <td>male</td>\n",
       "      <td>15-24 years</td>\n",
       "      <td>21</td>\n",
       "      <td>312900</td>\n",
       "      <td>6.71</td>\n",
       "      <td>Albania1987</td>\n",
       "      <td>NaN</td>\n",
       "      <td>2,156,624,900</td>\n",
       "      <td>796</td>\n",
       "      <td>Generation X</td>\n",
       "    </tr>\n",
       "    <tr>\n",
       "      <th>1</th>\n",
       "      <td>Albania</td>\n",
       "      <td>1987</td>\n",
       "      <td>male</td>\n",
       "      <td>35-54 years</td>\n",
       "      <td>16</td>\n",
       "      <td>308000</td>\n",
       "      <td>5.19</td>\n",
       "      <td>Albania1987</td>\n",
       "      <td>NaN</td>\n",
       "      <td>2,156,624,900</td>\n",
       "      <td>796</td>\n",
       "      <td>Silent</td>\n",
       "    </tr>\n",
       "    <tr>\n",
       "      <th>2</th>\n",
       "      <td>Albania</td>\n",
       "      <td>1987</td>\n",
       "      <td>female</td>\n",
       "      <td>15-24 years</td>\n",
       "      <td>14</td>\n",
       "      <td>289700</td>\n",
       "      <td>4.83</td>\n",
       "      <td>Albania1987</td>\n",
       "      <td>NaN</td>\n",
       "      <td>2,156,624,900</td>\n",
       "      <td>796</td>\n",
       "      <td>Generation X</td>\n",
       "    </tr>\n",
       "    <tr>\n",
       "      <th>3</th>\n",
       "      <td>Albania</td>\n",
       "      <td>1987</td>\n",
       "      <td>male</td>\n",
       "      <td>75+ years</td>\n",
       "      <td>1</td>\n",
       "      <td>21800</td>\n",
       "      <td>4.59</td>\n",
       "      <td>Albania1987</td>\n",
       "      <td>NaN</td>\n",
       "      <td>2,156,624,900</td>\n",
       "      <td>796</td>\n",
       "      <td>G.I. Generation</td>\n",
       "    </tr>\n",
       "    <tr>\n",
       "      <th>4</th>\n",
       "      <td>Albania</td>\n",
       "      <td>1987</td>\n",
       "      <td>male</td>\n",
       "      <td>25-34 years</td>\n",
       "      <td>9</td>\n",
       "      <td>274300</td>\n",
       "      <td>3.28</td>\n",
       "      <td>Albania1987</td>\n",
       "      <td>NaN</td>\n",
       "      <td>2,156,624,900</td>\n",
       "      <td>796</td>\n",
       "      <td>Boomers</td>\n",
       "    </tr>\n",
       "  </tbody>\n",
       "</table>\n",
       "</div>"
      ],
      "text/plain": [
       "   country  year     sex          age  suicides_no  population  \\\n",
       "0  Albania  1987    male  15-24 years           21      312900   \n",
       "1  Albania  1987    male  35-54 years           16      308000   \n",
       "2  Albania  1987  female  15-24 years           14      289700   \n",
       "3  Albania  1987    male    75+ years            1       21800   \n",
       "4  Albania  1987    male  25-34 years            9      274300   \n",
       "\n",
       "   suicides/100k pop country-year  HDI for year  gdp_for_year ($)   \\\n",
       "0               6.71  Albania1987           NaN      2,156,624,900   \n",
       "1               5.19  Albania1987           NaN      2,156,624,900   \n",
       "2               4.83  Albania1987           NaN      2,156,624,900   \n",
       "3               4.59  Albania1987           NaN      2,156,624,900   \n",
       "4               3.28  Albania1987           NaN      2,156,624,900   \n",
       "\n",
       "   gdp_per_capita ($)       generation  \n",
       "0                 796     Generation X  \n",
       "1                 796           Silent  \n",
       "2                 796     Generation X  \n",
       "3                 796  G.I. Generation  \n",
       "4                 796          Boomers  "
      ]
     },
     "execution_count": 32,
     "metadata": {},
     "output_type": "execute_result"
    }
   ],
   "source": [
    "suicide.head()"
   ]
  },
  {
   "cell_type": "code",
   "execution_count": 33,
   "id": "cdb97855-29a7-4978-967e-ebfb58fb8a75",
   "metadata": {},
   "outputs": [
    {
     "data": {
      "text/plain": [
       "101"
      ]
     },
     "execution_count": 33,
     "metadata": {},
     "output_type": "execute_result"
    }
   ],
   "source": [
    "len(suicide.country.unique())"
   ]
  },
  {
   "cell_type": "markdown",
   "id": "76774a6d-9f7a-4851-b9f9-94e6903eec34",
   "metadata": {},
   "source": [
    "There are 101 countries in the suicide dataset"
   ]
  },
  {
   "cell_type": "code",
   "execution_count": 34,
   "id": "cb2e9a45-4614-441e-b2c3-0a4a96ed67f5",
   "metadata": {},
   "outputs": [
    {
     "name": "stdout",
     "output_type": "stream",
     "text": [
      "<class 'pandas.core.frame.DataFrame'>\n",
      "RangeIndex: 27820 entries, 0 to 27819\n",
      "Data columns (total 12 columns):\n",
      " #   Column              Non-Null Count  Dtype  \n",
      "---  ------              --------------  -----  \n",
      " 0   country             27820 non-null  object \n",
      " 1   year                27820 non-null  int64  \n",
      " 2   sex                 27820 non-null  object \n",
      " 3   age                 27820 non-null  object \n",
      " 4   suicides_no         27820 non-null  int64  \n",
      " 5   population          27820 non-null  int64  \n",
      " 6   suicides/100k pop   27820 non-null  float64\n",
      " 7   country-year        27820 non-null  object \n",
      " 8   HDI for year        8364 non-null   float64\n",
      " 9    gdp_for_year ($)   27820 non-null  object \n",
      " 10  gdp_per_capita ($)  27820 non-null  int64  \n",
      " 11  generation          27820 non-null  object \n",
      "dtypes: float64(2), int64(4), object(6)\n",
      "memory usage: 2.5+ MB\n"
     ]
    }
   ],
   "source": [
    "suicide.info()"
   ]
  },
  {
   "cell_type": "code",
   "execution_count": 35,
   "id": "e4d1a673-cc34-4c90-baf6-501018e137b8",
   "metadata": {},
   "outputs": [
    {
     "data": {
      "text/plain": [
       "country                   0\n",
       "year                      0\n",
       "sex                       0\n",
       "age                       0\n",
       "suicides_no               0\n",
       "population                0\n",
       "suicides/100k pop         0\n",
       "country-year              0\n",
       "HDI for year          19456\n",
       " gdp_for_year ($)         0\n",
       "gdp_per_capita ($)        0\n",
       "generation                0\n",
       "dtype: int64"
      ]
     },
     "execution_count": 35,
     "metadata": {},
     "output_type": "execute_result"
    }
   ],
   "source": [
    "suicide.isnull().sum()"
   ]
  },
  {
   "cell_type": "code",
   "execution_count": 36,
   "id": "addcf192-feb7-422c-a0c9-f9168af0f417",
   "metadata": {},
   "outputs": [
    {
     "name": "stdout",
     "output_type": "stream",
     "text": [
      "The 'HDI for year' column has null accounting for 69.94%\n"
     ]
    }
   ],
   "source": [
    "print(f\"The 'HDI for year' column has null accounting for {round(suicide['HDI for year'].isnull().sum()/len(suicide['HDI for year']), 4)*100}%\")"
   ]
  },
  {
   "cell_type": "markdown",
   "id": "52856f2f-4e81-431e-a41f-1c8c4a34b687",
   "metadata": {},
   "source": [
    "Almost 70% of the HDI data is missing value, so we will handle this issue later on in data cleaning process"
   ]
  },
  {
   "cell_type": "code",
   "execution_count": 37,
   "id": "3aa5c8db-9b38-4e4b-8045-c19606efdcaa",
   "metadata": {},
   "outputs": [
    {
     "data": {
      "text/html": [
       "<div>\n",
       "<style scoped>\n",
       "    .dataframe tbody tr th:only-of-type {\n",
       "        vertical-align: middle;\n",
       "    }\n",
       "\n",
       "    .dataframe tbody tr th {\n",
       "        vertical-align: top;\n",
       "    }\n",
       "\n",
       "    .dataframe thead th {\n",
       "        text-align: right;\n",
       "    }\n",
       "</style>\n",
       "<table border=\"1\" class=\"dataframe\">\n",
       "  <thead>\n",
       "    <tr style=\"text-align: right;\">\n",
       "      <th></th>\n",
       "      <th>year</th>\n",
       "      <th>suicides_no</th>\n",
       "      <th>population</th>\n",
       "      <th>suicides/100k pop</th>\n",
       "      <th>HDI for year</th>\n",
       "      <th>gdp_per_capita ($)</th>\n",
       "    </tr>\n",
       "  </thead>\n",
       "  <tbody>\n",
       "    <tr>\n",
       "      <th>count</th>\n",
       "      <td>27820.000000</td>\n",
       "      <td>27820.000000</td>\n",
       "      <td>2.782000e+04</td>\n",
       "      <td>27820.000000</td>\n",
       "      <td>8364.000000</td>\n",
       "      <td>27820.000000</td>\n",
       "    </tr>\n",
       "    <tr>\n",
       "      <th>mean</th>\n",
       "      <td>2001.258375</td>\n",
       "      <td>242.574407</td>\n",
       "      <td>1.844794e+06</td>\n",
       "      <td>12.816097</td>\n",
       "      <td>0.776601</td>\n",
       "      <td>16866.464414</td>\n",
       "    </tr>\n",
       "    <tr>\n",
       "      <th>std</th>\n",
       "      <td>8.469055</td>\n",
       "      <td>902.047917</td>\n",
       "      <td>3.911779e+06</td>\n",
       "      <td>18.961511</td>\n",
       "      <td>0.093367</td>\n",
       "      <td>18887.576472</td>\n",
       "    </tr>\n",
       "    <tr>\n",
       "      <th>min</th>\n",
       "      <td>1985.000000</td>\n",
       "      <td>0.000000</td>\n",
       "      <td>2.780000e+02</td>\n",
       "      <td>0.000000</td>\n",
       "      <td>0.483000</td>\n",
       "      <td>251.000000</td>\n",
       "    </tr>\n",
       "    <tr>\n",
       "      <th>25%</th>\n",
       "      <td>1995.000000</td>\n",
       "      <td>3.000000</td>\n",
       "      <td>9.749850e+04</td>\n",
       "      <td>0.920000</td>\n",
       "      <td>0.713000</td>\n",
       "      <td>3447.000000</td>\n",
       "    </tr>\n",
       "    <tr>\n",
       "      <th>50%</th>\n",
       "      <td>2002.000000</td>\n",
       "      <td>25.000000</td>\n",
       "      <td>4.301500e+05</td>\n",
       "      <td>5.990000</td>\n",
       "      <td>0.779000</td>\n",
       "      <td>9372.000000</td>\n",
       "    </tr>\n",
       "    <tr>\n",
       "      <th>75%</th>\n",
       "      <td>2008.000000</td>\n",
       "      <td>131.000000</td>\n",
       "      <td>1.486143e+06</td>\n",
       "      <td>16.620000</td>\n",
       "      <td>0.855000</td>\n",
       "      <td>24874.000000</td>\n",
       "    </tr>\n",
       "    <tr>\n",
       "      <th>max</th>\n",
       "      <td>2016.000000</td>\n",
       "      <td>22338.000000</td>\n",
       "      <td>4.380521e+07</td>\n",
       "      <td>224.970000</td>\n",
       "      <td>0.944000</td>\n",
       "      <td>126352.000000</td>\n",
       "    </tr>\n",
       "  </tbody>\n",
       "</table>\n",
       "</div>"
      ],
      "text/plain": [
       "               year   suicides_no    population  suicides/100k pop  \\\n",
       "count  27820.000000  27820.000000  2.782000e+04       27820.000000   \n",
       "mean    2001.258375    242.574407  1.844794e+06          12.816097   \n",
       "std        8.469055    902.047917  3.911779e+06          18.961511   \n",
       "min     1985.000000      0.000000  2.780000e+02           0.000000   \n",
       "25%     1995.000000      3.000000  9.749850e+04           0.920000   \n",
       "50%     2002.000000     25.000000  4.301500e+05           5.990000   \n",
       "75%     2008.000000    131.000000  1.486143e+06          16.620000   \n",
       "max     2016.000000  22338.000000  4.380521e+07         224.970000   \n",
       "\n",
       "       HDI for year  gdp_per_capita ($)  \n",
       "count   8364.000000        27820.000000  \n",
       "mean       0.776601        16866.464414  \n",
       "std        0.093367        18887.576472  \n",
       "min        0.483000          251.000000  \n",
       "25%        0.713000         3447.000000  \n",
       "50%        0.779000         9372.000000  \n",
       "75%        0.855000        24874.000000  \n",
       "max        0.944000       126352.000000  "
      ]
     },
     "execution_count": 37,
     "metadata": {},
     "output_type": "execute_result"
    }
   ],
   "source": [
    "suicide.describe()"
   ]
  },
  {
   "cell_type": "markdown",
   "id": "2a36643a-b737-49db-9c62-e110c1f3726f",
   "metadata": {},
   "source": [
    "There are three points to consider: \n",
    "* is the minimum number of suicidals 0? Does it actually make sense?\n",
    "* The whole population of 278 people per country? Is it reliable?\n",
    "* Again, due to the minimum number of suicidals being at the lowest of 0, the suicides/100k pop is also 0. Is it legitimate?"
   ]
  },
  {
   "cell_type": "markdown",
   "id": "41fbf82f-951c-4efe-a7ec-5113a9536fe4",
   "metadata": {},
   "source": [
    "##### --- HDI Data Set ---"
   ]
  },
  {
   "cell_type": "markdown",
   "id": "d2e42f6a-5b47-4a53-a6bd-0ac973af0297",
   "metadata": {},
   "source": [
    "Now It's time to deal with the aforementioned missing values"
   ]
  },
  {
   "cell_type": "code",
   "execution_count": 38,
   "id": "00205a67-8e23-4a0b-b7e3-fa284fb25d03",
   "metadata": {},
   "outputs": [],
   "source": [
    "hdi = pd.read_csv('./data/hdi.csv')"
   ]
  },
  {
   "cell_type": "code",
   "execution_count": 39,
   "id": "8fa4bf24-d490-41fc-b53b-c5a4bab05ba7",
   "metadata": {},
   "outputs": [
    {
     "data": {
      "text/plain": [
       "(5923, 4)"
      ]
     },
     "execution_count": 39,
     "metadata": {},
     "output_type": "execute_result"
    }
   ],
   "source": [
    "hdi.shape"
   ]
  },
  {
   "cell_type": "code",
   "execution_count": 40,
   "id": "ef6032ae-ccb0-46e3-b389-6f76d17c911e",
   "metadata": {},
   "outputs": [
    {
     "data": {
      "text/html": [
       "<div>\n",
       "<style scoped>\n",
       "    .dataframe tbody tr th:only-of-type {\n",
       "        vertical-align: middle;\n",
       "    }\n",
       "\n",
       "    .dataframe tbody tr th {\n",
       "        vertical-align: top;\n",
       "    }\n",
       "\n",
       "    .dataframe thead th {\n",
       "        text-align: right;\n",
       "    }\n",
       "</style>\n",
       "<table border=\"1\" class=\"dataframe\">\n",
       "  <thead>\n",
       "    <tr style=\"text-align: right;\">\n",
       "      <th></th>\n",
       "      <th>Entity</th>\n",
       "      <th>Code</th>\n",
       "      <th>Year</th>\n",
       "      <th>Human Development Index</th>\n",
       "    </tr>\n",
       "  </thead>\n",
       "  <tbody>\n",
       "    <tr>\n",
       "      <th>692</th>\n",
       "      <td>Brazil</td>\n",
       "      <td>BRA</td>\n",
       "      <td>1995</td>\n",
       "      <td>0.646</td>\n",
       "    </tr>\n",
       "    <tr>\n",
       "      <th>1113</th>\n",
       "      <td>Comoros</td>\n",
       "      <td>COM</td>\n",
       "      <td>2007</td>\n",
       "      <td>0.500</td>\n",
       "    </tr>\n",
       "    <tr>\n",
       "      <th>1761</th>\n",
       "      <td>Ethiopia</td>\n",
       "      <td>ETH</td>\n",
       "      <td>2015</td>\n",
       "      <td>0.460</td>\n",
       "    </tr>\n",
       "    <tr>\n",
       "      <th>2247</th>\n",
       "      <td>High human development (UNDP)</td>\n",
       "      <td>NaN</td>\n",
       "      <td>1994</td>\n",
       "      <td>0.581</td>\n",
       "    </tr>\n",
       "    <tr>\n",
       "      <th>1173</th>\n",
       "      <td>Costa Rica</td>\n",
       "      <td>CRI</td>\n",
       "      <td>2003</td>\n",
       "      <td>0.727</td>\n",
       "    </tr>\n",
       "    <tr>\n",
       "      <th>3569</th>\n",
       "      <td>Mongolia</td>\n",
       "      <td>MNG</td>\n",
       "      <td>1997</td>\n",
       "      <td>0.572</td>\n",
       "    </tr>\n",
       "    <tr>\n",
       "      <th>3117</th>\n",
       "      <td>Lithuania</td>\n",
       "      <td>LTU</td>\n",
       "      <td>2012</td>\n",
       "      <td>0.851</td>\n",
       "    </tr>\n",
       "    <tr>\n",
       "      <th>5640</th>\n",
       "      <td>Uruguay</td>\n",
       "      <td>URY</td>\n",
       "      <td>2002</td>\n",
       "      <td>0.764</td>\n",
       "    </tr>\n",
       "    <tr>\n",
       "      <th>4575</th>\n",
       "      <td>Saudi Arabia</td>\n",
       "      <td>SAU</td>\n",
       "      <td>2011</td>\n",
       "      <td>0.828</td>\n",
       "    </tr>\n",
       "    <tr>\n",
       "      <th>4032</th>\n",
       "      <td>Pakistan</td>\n",
       "      <td>PAK</td>\n",
       "      <td>2021</td>\n",
       "      <td>0.544</td>\n",
       "    </tr>\n",
       "  </tbody>\n",
       "</table>\n",
       "</div>"
      ],
      "text/plain": [
       "                             Entity Code  Year  Human Development Index\n",
       "692                          Brazil  BRA  1995                    0.646\n",
       "1113                        Comoros  COM  2007                    0.500\n",
       "1761                       Ethiopia  ETH  2015                    0.460\n",
       "2247  High human development (UNDP)  NaN  1994                    0.581\n",
       "1173                     Costa Rica  CRI  2003                    0.727\n",
       "3569                       Mongolia  MNG  1997                    0.572\n",
       "3117                      Lithuania  LTU  2012                    0.851\n",
       "5640                        Uruguay  URY  2002                    0.764\n",
       "4575                   Saudi Arabia  SAU  2011                    0.828\n",
       "4032                       Pakistan  PAK  2021                    0.544"
      ]
     },
     "execution_count": 40,
     "metadata": {},
     "output_type": "execute_result"
    }
   ],
   "source": [
    "hdi.sample(10)"
   ]
  },
  {
   "cell_type": "code",
   "execution_count": 41,
   "id": "55b3b77e-ba7a-471f-8f61-14501069d11c",
   "metadata": {},
   "outputs": [
    {
     "name": "stdout",
     "output_type": "stream",
     "text": [
      "<class 'pandas.core.frame.DataFrame'>\n",
      "RangeIndex: 5923 entries, 0 to 5922\n",
      "Data columns (total 4 columns):\n",
      " #   Column                   Non-Null Count  Dtype  \n",
      "---  ------                   --------------  -----  \n",
      " 0   Entity                   5923 non-null   object \n",
      " 1   Code                     5603 non-null   object \n",
      " 2   Year                     5923 non-null   int64  \n",
      " 3   Human Development Index  5923 non-null   float64\n",
      "dtypes: float64(1), int64(1), object(2)\n",
      "memory usage: 185.2+ KB\n"
     ]
    }
   ],
   "source": [
    "hdi.info()"
   ]
  },
  {
   "cell_type": "markdown",
   "id": "75c20864-673f-4c49-b827-93cfe7d0db0c",
   "metadata": {},
   "source": [
    "Only 'Code' column has null values, and this does not matter at tall since it's going to be dropped"
   ]
  },
  {
   "cell_type": "code",
   "execution_count": 42,
   "id": "f0a8d2b9-01b8-4139-9136-df3f14fb0aee",
   "metadata": {},
   "outputs": [
    {
     "data": {
      "text/plain": [
       "Index(['Entity', 'Code', 'Year', 'Human Development Index'], dtype='object')"
      ]
     },
     "execution_count": 42,
     "metadata": {},
     "output_type": "execute_result"
    }
   ],
   "source": [
    "hdi.columns"
   ]
  },
  {
   "cell_type": "markdown",
   "id": "55a41523-fb97-486f-946d-706943d0d076",
   "metadata": {},
   "source": [
    "### Data Cleaning"
   ]
  },
  {
   "cell_type": "markdown",
   "id": "636d496f-5be5-4e5f-9cc1-9bd62f3f415c",
   "metadata": {},
   "source": [
    "##### --- Modifying columns'name in both datasets to them make easier to access for the upcoming tasks ---"
   ]
  },
  {
   "cell_type": "code",
   "execution_count": 43,
   "id": "d4332887-0791-4060-86af-40f4bfb82b7a",
   "metadata": {},
   "outputs": [],
   "source": [
    "hdi.columns = [col.lower().strip().replace(' ', '_') for col in hdi.columns]\n",
    "suicide.columns = [col.lower().strip().replace(' ', '_') for col in suicide.columns]"
   ]
  },
  {
   "cell_type": "code",
   "execution_count": 44,
   "id": "efdd5a6b-0eab-41b9-8117-d5eb5c12881d",
   "metadata": {},
   "outputs": [
    {
     "name": "stdout",
     "output_type": "stream",
     "text": [
      "Index(['entity', 'code', 'year', 'human_development_index'], dtype='object')\n",
      "\n",
      "Index(['country', 'year', 'sex', 'age', 'suicides_no', 'population',\n",
      "       'suicides/100k_pop', 'country-year', 'hdi_for_year', 'gdp_for_year_($)',\n",
      "       'gdp_per_capita_($)', 'generation'],\n",
      "      dtype='object')\n"
     ]
    }
   ],
   "source": [
    "print(hdi.columns, suicide.columns, sep='\\n\\n')"
   ]
  },
  {
   "cell_type": "code",
   "execution_count": 45,
   "id": "b738cee7-e68a-46bb-a331-e936d2dca68a",
   "metadata": {},
   "outputs": [],
   "source": [
    "hdi = hdi.rename(columns={'human_development_index':'hdi', 'entity':'country'})\n",
    "suicide = suicide.rename(columns={'entity':'country', 'hdi_for_year':'hdi',\n",
    "                                 'gdp_for_year_($)': 'gdp_for_year',\n",
    "                                 'gdp_per_capita_($)': 'gdp_per_capita'})"
   ]
  },
  {
   "cell_type": "code",
   "execution_count": 46,
   "id": "106e294f-897e-40ca-b022-3cb63a7f0628",
   "metadata": {},
   "outputs": [
    {
     "name": "stdout",
     "output_type": "stream",
     "text": [
      "Index(['country', 'code', 'year', 'hdi'], dtype='object')\n",
      "\n",
      "Index(['country', 'year', 'sex', 'age', 'suicides_no', 'population',\n",
      "       'suicides/100k_pop', 'country-year', 'hdi', 'gdp_for_year',\n",
      "       'gdp_per_capita', 'generation'],\n",
      "      dtype='object')\n"
     ]
    }
   ],
   "source": [
    "print(hdi.columns, suicide.columns, sep='\\n\\n')"
   ]
  },
  {
   "cell_type": "markdown",
   "id": "89e684fe-2db8-4176-8380-ce9014849829",
   "metadata": {},
   "source": [
    "##### --- Eliminating some unrequired features in both datasets ---"
   ]
  },
  {
   "cell_type": "code",
   "execution_count": 47,
   "id": "91924c7e-6097-44ca-bdac-06e149f60b46",
   "metadata": {},
   "outputs": [],
   "source": [
    "hdi = hdi.drop(columns=['code'])\n",
    "suicide = suicide.drop(columns=['country-year'])"
   ]
  },
  {
   "cell_type": "code",
   "execution_count": 48,
   "id": "ddbde3b4-f2f9-4ade-95a6-d5b86233bdba",
   "metadata": {},
   "outputs": [
    {
     "name": "stdout",
     "output_type": "stream",
     "text": [
      "Index(['country', 'year', 'hdi'], dtype='object')\n",
      "\n",
      "Index(['country', 'year', 'sex', 'age', 'suicides_no', 'population',\n",
      "       'suicides/100k_pop', 'hdi', 'gdp_for_year', 'gdp_per_capita',\n",
      "       'generation'],\n",
      "      dtype='object')\n"
     ]
    }
   ],
   "source": [
    "print(hdi.columns, suicide.columns, sep='\\n\\n')"
   ]
  },
  {
   "cell_type": "markdown",
   "id": "ea70e9ff-5040-4979-84d6-331eb802727d",
   "metadata": {},
   "source": [
    "##### --- Check for null, missing and zero values ---"
   ]
  },
  {
   "cell_type": "code",
   "execution_count": 59,
   "id": "ca285950-7e41-457d-984a-2119e5af8eaa",
   "metadata": {},
   "outputs": [
    {
     "data": {
      "image/png": "[encoded data removed]",
      "text/plain": [
       "<Figure size 1000x500 with 2 Axes>"
      ]
     },
     "metadata": {},
     "output_type": "display_data"
    }
   ],
   "source": [
    "plt.figure(figsize=(10,5), dpi=100)\n",
    "plt.title(\"Null, Missing and Zero Values Heatmap - Suicide Dataset\")\n",
    "sns.heatmap((suicide.isnull()) | (suicide == 0))\n",
    "plt.show()"
   ]
  },
  {
   "cell_type": "code",
   "execution_count": 61,
   "id": "0b0c4816-8fe8-48a4-97ec-13bb13e6badc",
   "metadata": {},
   "outputs": [
    {
     "data": {
      "image/png": "[encoded data removed]",
      "text/plain": [
       "<Figure size 1200x600 with 2 Axes>"
      ]
     },
     "metadata": {},
     "output_type": "display_data"
    }
   ],
   "source": [
    "plt.figure(figsize=(10,5), dpi=120)\n",
    "plt.title(\"Null, Missing and Zero Values Heatmap - HDI Dataset\")\n",
    "sns.heatmap((hdi.isnull()) | (hdi == 0))\n",
    "plt.show()"
   ]
  },
  {
   "cell_type": "markdown",
   "id": "cc4745e6-6a85-48d1-abdd-5741154c6db4",
   "metadata": {},
   "source": [
    "##### --- Duplicate Value Checking --- "
   ]
  },
  {
   "cell_type": "code",
   "execution_count": 55,
   "id": "3a9b6072-58cc-4990-9e79-080414de3061",
   "metadata": {},
   "outputs": [
    {
     "name": "stdout",
     "output_type": "stream",
     "text": [
      "Duplicate Value Count:  0\n"
     ]
    }
   ],
   "source": [
    "print(\"Duplicate Value Count: \", suicide.duplicated().sum())"
   ]
  },
  {
   "cell_type": "markdown",
   "id": "32c6023b-a2e3-4a13-aeca-776022d56839",
   "metadata": {},
   "source": [
    "##### --- Dealing with missing values of HDI ---"
   ]
  },
  {
   "cell_type": "markdown",
   "id": "383008ef-b1a5-49fb-bc8e-ab32ce539f84",
   "metadata": {},
   "source": [
    "* The Human Development Index is a slow moving index (We might need a visual evidence for this statment???)\n",
    "* There are 2 steps to implement:\n",
    "<ol>\n",
    "    <li>use the hdi, retrieved from Our World in Data website, to fill those missing values based on country and year</li>\n",
    "    <li>if there are any missing values left, we will use forward filling technique</li>\n",
    "</ol>\n",
    "* Note that : Using forward filling technique will not significantly impact the analysis"
   ]
  },
  {
   "cell_type": "code",
   "execution_count": 64,
   "id": "370a029e-4789-4ab3-833d-b31b7738d1df",
   "metadata": {},
   "outputs": [],
   "source": [
    "# drop HDI feature in suicide dataset before merging\n",
    "suicide = suicide.drop(columns='hdi')"
   ]
  },
  {
   "cell_type": "code",
   "execution_count": 65,
   "id": "05f87692-2f56-4160-80f8-831ccdaa8eea",
   "metadata": {},
   "outputs": [],
   "source": [
    "# We will merge those two dataframes without eliminating any rows in suicide dataset (suicide dataset left join hdi dataset)\n",
    "df = pd.merge(suicide, hdi, how='left', on=['country', 'year'])"
   ]
  },
  {
   "cell_type": "code",
   "execution_count": 69,
   "id": "97eebdc5-e73c-4c40-80b7-66e9228eba8d",
   "metadata": {},
   "outputs": [
    {
     "data": {
      "text/plain": [
       "country                 0\n",
       "year                    0\n",
       "sex                     0\n",
       "age                     0\n",
       "suicides_no             0\n",
       "population              0\n",
       "suicides/100k_pop       0\n",
       "gdp_for_year            0\n",
       "gdp_per_capita          0\n",
       "generation              0\n",
       "hdi                  5914\n",
       "dtype: int64"
      ]
     },
     "execution_count": 69,
     "metadata": {},
     "output_type": "execute_result"
    }
   ],
   "source": [
    "df.isnull().sum()"
   ]
  },
  {
   "cell_type": "code",
   "execution_count": 84,
   "id": "344c7ebd-d6ba-40a9-aba8-444c965f05b1",
   "metadata": {},
   "outputs": [
    {
     "name": "stdout",
     "output_type": "stream",
     "text": [
      "Remaining missing values of HDI data is about 21.26%\n"
     ]
    }
   ],
   "source": [
    "remaining_null = df['hdi'].isnull().sum()/len(df['hdi'])\n",
    "print(f\"Remaining missing values of HDI data is about {round(remaining_null,4)*100}%\")"
   ]
  },
  {
   "cell_type": "code",
   "execution_count": 81,
   "id": "a31d160d-470d-4faf-af4a-cbe9a568f256",
   "metadata": {},
   "outputs": [
    {
     "data": {
      "text/plain": [
       "0.21258087706685838"
      ]
     },
     "execution_count": 81,
     "metadata": {},
     "output_type": "execute_result"
    }
   ],
   "source": []
  },
  {
   "cell_type": "code",
   "execution_count": null,
   "id": "6097804f-fb6c-4c44-a4ad-c9440c4e8b03",
   "metadata": {},
   "outputs": [],
   "source": []
  },
  {
   "cell_type": "code",
   "execution_count": null,
   "id": "8890ffe9-5dfa-426b-a1c7-f5e143e9f11a",
   "metadata": {},
   "outputs": [],
   "source": []
  },
  {
   "cell_type": "code",
   "execution_count": null,
   "id": "a8fe3a90-4247-4b0d-a14f-d0466e70eaa8",
   "metadata": {},
   "outputs": [],
   "source": []
  }
 ],
 "metadata": {
  "kernelspec": {
   "display_name": "suicide-rate",
   "language": "python",
   "name": "suicide-rate"
  },
  "language_info": {
   "codemirror_mode": {
    "name": "ipython",
    "version": 3
   },
   "file_extension": ".py",
   "mimetype": "text/x-python",
   "name": "python",
   "nbconvert_exporter": "python",
   "pygments_lexer": "ipython3",
   "version": "3.11.4"
  }
 },
 "nbformat": 4,
 "nbformat_minor": 5
}
