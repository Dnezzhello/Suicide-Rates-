{
 "cells": [
  {
   "cell_type": "code",
   "execution_count": 1,
   "id": "f0f570b8-b145-43b3-a60b-07db97426d6e",
   "metadata": {},
   "outputs": [],
   "source": [
    "import pandas as pd"
   ]
  },
  {
   "cell_type": "code",
   "execution_count": 2,
   "id": "2916f42e-1f6b-4daf-aaae-2f1d58690dc6",
   "metadata": {},
   "outputs": [],
   "source": [
    "df1 = pd.read_csv(\"./data/HDI.csv\")\n",
    "df2 = pd.read_csv(\"./data/master.csv\")"
   ]
  },
  {
   "cell_type": "code",
   "execution_count": 3,
   "id": "16f1ca12-a9f0-42ec-a0e7-bb978e77c63f",
   "metadata": {},
   "outputs": [],
   "source": [
    "hdi = df1.copy()\n",
    "suicide = df2.copy()"
   ]
  },
  {
   "cell_type": "code",
   "execution_count": 4,
   "id": "a9075df3-f795-4d60-be45-543285deac3e",
   "metadata": {},
   "outputs": [],
   "source": [
    "hdi = hdi.drop(columns=['Code'])\n",
    "suicide = suicide.drop(columns=['country-year'])"
   ]
  },
  {
   "cell_type": "code",
   "execution_count": 5,
   "id": "25d6bc34-206f-4b1f-97a9-e6e81891892e",
   "metadata": {},
   "outputs": [],
   "source": [
    "hdi.columns = [col.lower().strip().replace(' ', '_') for col in hdi.columns]"
   ]
  },
  {
   "cell_type": "code",
   "execution_count": 6,
   "id": "e8ed7305-a015-4231-a40c-6e6066e9aa9f",
   "metadata": {},
   "outputs": [],
   "source": [
    "suicide.columns = [col.lower().strip().replace(' ', '_') for col in suicide.columns]"
   ]
  },
  {
   "cell_type": "code",
   "execution_count": 7,
   "id": "28ed2c41-dc81-4910-a2d1-c9170f364ee1",
   "metadata": {},
   "outputs": [
    {
     "data": {
      "text/plain": [
       "Index(['entity', 'year', 'human_development_index'], dtype='object')"
      ]
     },
     "execution_count": 7,
     "metadata": {},
     "output_type": "execute_result"
    }
   ],
   "source": [
    "hdi.columns"
   ]
  },
  {
   "cell_type": "code",
   "execution_count": 8,
   "id": "2833f8ec-f3b0-478b-8c4e-0193d28f8404",
   "metadata": {},
   "outputs": [
    {
     "data": {
      "text/plain": [
       "Index(['country', 'year', 'sex', 'age', 'suicides_no', 'population',\n",
       "       'suicides/100k_pop', 'hdi_for_year', 'gdp_for_year_($)',\n",
       "       'gdp_per_capita_($)', 'generation'],\n",
       "      dtype='object')"
      ]
     },
     "execution_count": 8,
     "metadata": {},
     "output_type": "execute_result"
    }
   ],
   "source": [
    "suicide.columns"
   ]
  },
  {
   "cell_type": "code",
   "execution_count": 9,
   "id": "613a62e5-ead4-471e-9226-74a44e9cf41d",
   "metadata": {},
   "outputs": [],
   "source": [
    "hdi = hdi.rename(columns={'human_development_index':'hdi', 'entity':'country'})"
   ]
  },
  {
   "cell_type": "code",
   "execution_count": 10,
   "id": "3faaf60f-3310-4ab8-aafc-44a5dec2fbee",
   "metadata": {},
   "outputs": [],
   "source": [
    "suicide = suicide.rename(columns={'entity':'country', 'hdi_for_year':'hdi'})"
   ]
  },
  {
   "cell_type": "code",
   "execution_count": 11,
   "id": "12de9d17-5b7e-432f-a176-86ca91dbaec9",
   "metadata": {},
   "outputs": [
    {
     "name": "stdout",
     "output_type": "stream",
     "text": [
      "Index(['country', 'year', 'hdi'], dtype='object')\n",
      "\n",
      "Index(['country', 'year', 'sex', 'age', 'suicides_no', 'population',\n",
      "       'suicides/100k_pop', 'hdi', 'gdp_for_year_($)', 'gdp_per_capita_($)',\n",
      "       'generation'],\n",
      "      dtype='object')\n"
     ]
    }
   ],
   "source": [
    "print(hdi.columns, suicide.columns, sep='\\n\\n')"
   ]
  },
  {
   "cell_type": "code",
   "execution_count": 12,
   "id": "5adfd058-6912-4271-a4df-b62ab74c34c1",
   "metadata": {},
   "outputs": [],
   "source": [
    "suicide.drop(columns=['hdi'], inplace=True)"
   ]
  },
  {
   "cell_type": "code",
   "execution_count": 13,
   "id": "7da591c9-0c83-489e-aa46-f1f5a12c0916",
   "metadata": {},
   "outputs": [],
   "source": [
    "df_inner = pd.merge(suicide, hdi, how='inner', on=['country', 'year'])"
   ]
  },
  {
   "cell_type": "code",
   "execution_count": 14,
   "id": "ecb7f86c-c794-4c99-a7d3-33443c8fc10e",
   "metadata": {},
   "outputs": [
    {
     "name": "stdout",
     "output_type": "stream",
     "text": [
      "<class 'pandas.core.frame.DataFrame'>\n",
      "RangeIndex: 21906 entries, 0 to 21905\n",
      "Data columns (total 11 columns):\n",
      " #   Column              Non-Null Count  Dtype  \n",
      "---  ------              --------------  -----  \n",
      " 0   country             21906 non-null  object \n",
      " 1   year                21906 non-null  int64  \n",
      " 2   sex                 21906 non-null  object \n",
      " 3   age                 21906 non-null  object \n",
      " 4   suicides_no         21906 non-null  int64  \n",
      " 5   population          21906 non-null  int64  \n",
      " 6   suicides/100k_pop   21906 non-null  float64\n",
      " 7   gdp_for_year_($)    21906 non-null  object \n",
      " 8   gdp_per_capita_($)  21906 non-null  int64  \n",
      " 9   generation          21906 non-null  object \n",
      " 10  hdi                 21906 non-null  float64\n",
      "dtypes: float64(2), int64(4), object(5)\n",
      "memory usage: 1.8+ MB\n"
     ]
    }
   ],
   "source": [
    "df_inner.info()"
   ]
  },
  {
   "cell_type": "code",
   "execution_count": 106,
   "id": "e033710b-2e89-43d0-b63d-114741bb8067",
   "metadata": {},
   "outputs": [],
   "source": [
    "df = df.rename(columns={'gdp_for_year_($)': 'gdp_for_year', 'gdp_per_capita_($)': 'gdp_per_capita'})"
   ]
  },
  {
   "cell_type": "code",
   "execution_count": 107,
   "id": "2c1c5632-6dc5-4afe-a205-f7aaec3ffd9f",
   "metadata": {},
   "outputs": [
    {
     "data": {
      "text/plain": [
       "Index(['country', 'year', 'sex', 'age', 'suicides_no', 'population',\n",
       "       'suicides/100k_pop', 'gdp_for_year', 'gdp_per_capita', 'generation',\n",
       "       'hdi'],\n",
       "      dtype='object')"
      ]
     },
     "execution_count": 107,
     "metadata": {},
     "output_type": "execute_result"
    }
   ],
   "source": [
    "df.columns"
   ]
  },
  {
   "cell_type": "code",
   "execution_count": 15,
   "id": "9a64fe9e-a2d3-4b1d-a426-f6121f7bc957",
   "metadata": {},
   "outputs": [
    {
     "data": {
      "text/plain": [
       "array(['Albania', 'Antigua and Barbuda', 'Argentina', 'Armenia',\n",
       "       'Australia', 'Austria', 'Azerbaijan', 'Bahamas', 'Bahrain',\n",
       "       'Barbados', 'Belarus', 'Belgium', 'Belize',\n",
       "       'Bosnia and Herzegovina', 'Brazil', 'Bulgaria', 'Canada', 'Chile',\n",
       "       'Colombia', 'Costa Rica', 'Croatia', 'Cuba', 'Cyprus', 'Denmark',\n",
       "       'Ecuador', 'El Salvador', 'Estonia', 'Fiji', 'Finland', 'France',\n",
       "       'Georgia', 'Germany', 'Greece', 'Grenada', 'Guatemala', 'Guyana',\n",
       "       'Hungary', 'Iceland', 'Ireland', 'Israel', 'Italy', 'Jamaica',\n",
       "       'Japan', 'Kazakhstan', 'Kiribati', 'Kuwait', 'Kyrgyzstan',\n",
       "       'Latvia', 'Lithuania', 'Luxembourg', 'Maldives', 'Malta',\n",
       "       'Mauritius', 'Mexico', 'Mongolia', 'Montenegro', 'Netherlands',\n",
       "       'New Zealand', 'Nicaragua', 'Norway', 'Oman', 'Panama', 'Paraguay',\n",
       "       'Philippines', 'Poland', 'Portugal', 'Qatar', 'Romania',\n",
       "       'Saint Lucia', 'Serbia', 'Seychelles', 'Singapore', 'Slovakia',\n",
       "       'Slovenia', 'South Africa', 'Spain', 'Sri Lanka', 'Suriname',\n",
       "       'Sweden', 'Switzerland', 'Thailand', 'Trinidad and Tobago',\n",
       "       'Turkey', 'Turkmenistan', 'Ukraine', 'United Arab Emirates',\n",
       "       'United Kingdom', 'United States', 'Uruguay', 'Uzbekistan'],\n",
       "      dtype=object)"
      ]
     },
     "execution_count": 15,
     "metadata": {},
     "output_type": "execute_result"
    }
   ],
   "source": [
    "df.country.unique()"
   ]
  },
  {
   "cell_type": "code",
   "execution_count": 18,
   "id": "3251f528-9661-47f6-9cf8-54f3049435d6",
   "metadata": {},
   "outputs": [],
   "source": [
    "original_countries = suicide.country.unique()\n",
    "hdi_countries = hdi.country.unique()"
   ]
  },
  {
   "cell_type": "code",
   "execution_count": 23,
   "id": "1b4611c9-5ea6-429c-a298-416386dac9d3",
   "metadata": {},
   "outputs": [],
   "source": [
    "unmatched_values = set(original_countries) - set(hdi_countries) | set(hdi_countries) - set(original_countries)"
   ]
  },
  {
   "cell_type": "code",
   "execution_count": 30,
   "id": "d1654a3c-07bf-439b-bd32-c978f27b09ce",
   "metadata": {},
   "outputs": [],
   "source": [
    "#list(unmatched_values)"
   ]
  },
  {
   "cell_type": "code",
   "execution_count": 50,
   "id": "3c3a7b78-f53b-4e86-8d84-d9c777ce390a",
   "metadata": {},
   "outputs": [
    {
     "data": {
      "text/plain": [
       "90"
      ]
     },
     "execution_count": 50,
     "metadata": {},
     "output_type": "execute_result"
    }
   ],
   "source": [
    "len(df_inner.country.unique())"
   ]
  },
  {
   "cell_type": "code",
   "execution_count": 52,
   "id": "8eb4f8fe-1a2b-4b77-9241-7c228ed0228b",
   "metadata": {},
   "outputs": [
    {
     "data": {
      "text/plain": [
       "101"
      ]
     },
     "execution_count": 52,
     "metadata": {},
     "output_type": "execute_result"
    }
   ],
   "source": [
    "len(suicide.country.unique())"
   ]
  },
  {
   "cell_type": "code",
   "execution_count": 44,
   "id": "7b2506ca-7380-4816-87ca-c7e96c8bbd3d",
   "metadata": {},
   "outputs": [
    {
     "data": {
      "text/html": [
       "<div>\n",
       "<style scoped>\n",
       "    .dataframe tbody tr th:only-of-type {\n",
       "        vertical-align: middle;\n",
       "    }\n",
       "\n",
       "    .dataframe tbody tr th {\n",
       "        vertical-align: top;\n",
       "    }\n",
       "\n",
       "    .dataframe thead th {\n",
       "        text-align: right;\n",
       "    }\n",
       "</style>\n",
       "<table border=\"1\" class=\"dataframe\">\n",
       "  <thead>\n",
       "    <tr style=\"text-align: right;\">\n",
       "      <th></th>\n",
       "      <th>country</th>\n",
       "      <th>year</th>\n",
       "      <th>hdi</th>\n",
       "    </tr>\n",
       "  </thead>\n",
       "  <tbody>\n",
       "    <tr>\n",
       "      <th>0</th>\n",
       "      <td>Afghanistan</td>\n",
       "      <td>1990</td>\n",
       "      <td>0.273</td>\n",
       "    </tr>\n",
       "    <tr>\n",
       "      <th>1</th>\n",
       "      <td>Afghanistan</td>\n",
       "      <td>1991</td>\n",
       "      <td>0.279</td>\n",
       "    </tr>\n",
       "    <tr>\n",
       "      <th>2</th>\n",
       "      <td>Afghanistan</td>\n",
       "      <td>1992</td>\n",
       "      <td>0.287</td>\n",
       "    </tr>\n",
       "    <tr>\n",
       "      <th>3</th>\n",
       "      <td>Afghanistan</td>\n",
       "      <td>1993</td>\n",
       "      <td>0.297</td>\n",
       "    </tr>\n",
       "    <tr>\n",
       "      <th>4</th>\n",
       "      <td>Afghanistan</td>\n",
       "      <td>1994</td>\n",
       "      <td>0.292</td>\n",
       "    </tr>\n",
       "    <tr>\n",
       "      <th>...</th>\n",
       "      <td>...</td>\n",
       "      <td>...</td>\n",
       "      <td>...</td>\n",
       "    </tr>\n",
       "    <tr>\n",
       "      <th>5918</th>\n",
       "      <td>Zimbabwe</td>\n",
       "      <td>2017</td>\n",
       "      <td>0.594</td>\n",
       "    </tr>\n",
       "    <tr>\n",
       "      <th>5919</th>\n",
       "      <td>Zimbabwe</td>\n",
       "      <td>2018</td>\n",
       "      <td>0.602</td>\n",
       "    </tr>\n",
       "    <tr>\n",
       "      <th>5920</th>\n",
       "      <td>Zimbabwe</td>\n",
       "      <td>2019</td>\n",
       "      <td>0.601</td>\n",
       "    </tr>\n",
       "    <tr>\n",
       "      <th>5921</th>\n",
       "      <td>Zimbabwe</td>\n",
       "      <td>2020</td>\n",
       "      <td>0.600</td>\n",
       "    </tr>\n",
       "    <tr>\n",
       "      <th>5922</th>\n",
       "      <td>Zimbabwe</td>\n",
       "      <td>2021</td>\n",
       "      <td>0.593</td>\n",
       "    </tr>\n",
       "  </tbody>\n",
       "</table>\n",
       "<p>5923 rows × 3 columns</p>\n",
       "</div>"
      ],
      "text/plain": [
       "          country  year    hdi\n",
       "0     Afghanistan  1990  0.273\n",
       "1     Afghanistan  1991  0.279\n",
       "2     Afghanistan  1992  0.287\n",
       "3     Afghanistan  1993  0.297\n",
       "4     Afghanistan  1994  0.292\n",
       "...           ...   ...    ...\n",
       "5918     Zimbabwe  2017  0.594\n",
       "5919     Zimbabwe  2018  0.602\n",
       "5920     Zimbabwe  2019  0.601\n",
       "5921     Zimbabwe  2020  0.600\n",
       "5922     Zimbabwe  2021  0.593\n",
       "\n",
       "[5923 rows x 3 columns]"
      ]
     },
     "execution_count": 44,
     "metadata": {},
     "output_type": "execute_result"
    }
   ],
   "source": [
    "hdi"
   ]
  },
  {
   "cell_type": "code",
   "execution_count": 45,
   "id": "daddf5ad-7ca5-4a44-bf00-93ea4cc8e8bf",
   "metadata": {},
   "outputs": [
    {
     "name": "stdout",
     "output_type": "stream",
     "text": [
      "<class 'pandas.core.frame.DataFrame'>\n",
      "RangeIndex: 27820 entries, 0 to 27819\n",
      "Data columns (total 10 columns):\n",
      " #   Column              Non-Null Count  Dtype  \n",
      "---  ------              --------------  -----  \n",
      " 0   country             27820 non-null  object \n",
      " 1   year                27820 non-null  int64  \n",
      " 2   sex                 27820 non-null  object \n",
      " 3   age                 27820 non-null  object \n",
      " 4   suicides_no         27820 non-null  int64  \n",
      " 5   population          27820 non-null  int64  \n",
      " 6   suicides/100k_pop   27820 non-null  float64\n",
      " 7   gdp_for_year_($)    27820 non-null  object \n",
      " 8   gdp_per_capita_($)  27820 non-null  int64  \n",
      " 9   generation          27820 non-null  object \n",
      "dtypes: float64(1), int64(4), object(5)\n",
      "memory usage: 2.1+ MB\n"
     ]
    }
   ],
   "source": [
    "suicide.info()"
   ]
  },
  {
   "cell_type": "code",
   "execution_count": 53,
   "id": "fe87f5c1-a8e7-409e-9a01-1b80776c1b8b",
   "metadata": {},
   "outputs": [],
   "source": [
    "df_left = pd.merge(suicide, hdi, how='left', on=['country', 'year'])"
   ]
  },
  {
   "cell_type": "code",
   "execution_count": 69,
   "id": "17bb8405-be81-4255-8901-3ac2829fc88e",
   "metadata": {},
   "outputs": [],
   "source": [
    "country_year_nan = df_left[df_left.isna().any(axis=1)][['country', 'year']]"
   ]
  },
  {
   "cell_type": "code",
   "execution_count": 77,
   "id": "818cd379-2784-4bfb-bbe5-05add38a00f1",
   "metadata": {},
   "outputs": [
    {
     "data": {
      "text/plain": [
       "array([  nan, 0.576, 0.585, 0.595, 0.613, 0.619, 0.628, 0.635, 0.64 ,\n",
       "       0.646, 0.653, 0.676, 0.687, 0.697, 0.706, 0.712, 0.724, 0.727,\n",
       "       0.73 , 0.737, 0.743, 0.746, 0.747, 0.778, 0.781, 0.785])"
      ]
     },
     "execution_count": 77,
     "metadata": {},
     "output_type": "execute_result"
    }
   ],
   "source": []
  },
  {
   "cell_type": "code",
   "execution_count": null,
   "id": "bf5e1921-4909-4e26-8944-6f27fb359767",
   "metadata": {},
   "outputs": [],
   "source": []
  },
  {
   "cell_type": "code",
   "execution_count": 78,
   "id": "6c27efc1-a51f-4d12-a0a3-193229dd0c24",
   "metadata": {},
   "outputs": [
    {
     "name": "stdout",
     "output_type": "stream",
     "text": [
      "        Value      \n",
      "         mean count\n",
      "Country            \n",
      "Canada   40.0     3\n",
      "USA      15.0     2\n"
     ]
    }
   ],
   "source": [
    "import pandas as pd\n",
    "\n",
    "# create a sample DataFrame\n",
    "data = {'Country': ['USA', 'USA', 'Canada', 'Canada', 'Canada'],\n",
    "        'Year': [2015, 2016, 2015, 2016, 2017],\n",
    "        'Value': [10, 20, 30, 40, 50]}\n",
    "df = pd.DataFrame(data)\n",
    "\n",
    "# group the DataFrame by 'Country' and apply the mean and count functions to each group\n",
    "grouped = df.groupby('Country').agg({'Value': ['mean', 'count']})\n",
    "\n",
    "# show the resulting DataFrame\n",
    "print(grouped)"
   ]
  },
  {
   "cell_type": "code",
   "execution_count": null,
   "id": "1fa3d17e-0076-4698-9edc-677adc4753ba",
   "metadata": {},
   "outputs": [],
   "source": []
  }
 ],
 "metadata": {
  "kernelspec": {
   "display_name": "suicide-rate",
   "language": "python",
   "name": "suicide-rate"
  },
  "language_info": {
   "codemirror_mode": {
    "name": "ipython",
    "version": 3
   },
   "file_extension": ".py",
   "mimetype": "text/x-python",
   "name": "python",
   "nbconvert_exporter": "python",
   "pygments_lexer": "ipython3",
   "version": "3.11.4"
  }
 },
 "nbformat": 4,
 "nbformat_minor": 5
}
